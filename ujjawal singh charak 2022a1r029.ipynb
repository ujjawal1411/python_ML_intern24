{
 "cells": [
  {
   "cell_type": "code",
   "execution_count": null,
   "id": "74cadaf8-fbe3-4b41-90f2-5a30bb8c231e",
   "metadata": {},
   "outputs": [],
   "source": [
    "def star_pattern(n):\n",
    "    \n",
    "    spaces = n\n",
    "    for i in range(1, n + 1):\n",
    "        for j in range(1, n + 1):\n",
    "            \n",
    "            print(\" \", end=\"\")\n",
    "       \n",
    "\n",
    "        for k in range(1, i + 1):\n",
    "            \n",
    "            print(\"*\", end=\"\")\n",
    "\n",
    "      \n",
    "        print()\n",
    "       \n",
    "        n = n- 1\n",
    "\n",
    "\n",
    "n = int(input(\"Enter number of rows:\"))\n",
    "star_pattern3(n)"
   ]
  },
  {
   "cell_type": "code",
   "execution_count": 4,
   "id": "f1832085-d083-4fdb-b0aa-c09d37dc9031",
   "metadata": {},
   "outputs": [
    {
     "name": "stdin",
     "output_type": "stream",
     "text": [
      "Enter the a:  7\n",
      "Enter the b:  9\n"
     ]
    },
    {
     "name": "stdout",
     "output_type": "stream",
     "text": [
      "0.7777777777777778\n"
     ]
    }
   ],
   "source": [
    "while (True):\n",
    "    try:\n",
    "       \n",
    "        num1= float(input(\"Enter the a: \"))\n",
    "        num2 = float(input(\"Enter the b: \"))\n",
    "\n",
    "        \n",
    "        result = num1/ num2\n",
    "        print( result)\n",
    "        break  \n",
    "\n",
    "    except ZeroDivisionError:\n",
    "        print(\"Error: Division by zero is not allowed. Please try again.\")\n",
    "    except ValueError:\n",
    "        print(\"Error: Invalid input. Please enter numeric values.\")\n"
   ]
  },
  {
   "cell_type": "code",
   "execution_count": null,
   "id": "eb5c51dc-8678-4bb5-a22c-f5383bd3c8b1",
   "metadata": {},
   "outputs": [],
   "source": []
  }
 ],
 "metadata": {
  "kernelspec": {
   "display_name": "Python 3 (ipykernel)",
   "language": "python",
   "name": "python3"
  },
  "language_info": {
   "codemirror_mode": {
    "name": "ipython",
    "version": 3
   },
   "file_extension": ".py",
   "mimetype": "text/x-python",
   "name": "python",
   "nbconvert_exporter": "python",
   "pygments_lexer": "ipython3",
   "version": "3.12.4"
  }
 },
 "nbformat": 4,
 "nbformat_minor": 5
}
