{
 "cells": [
  {
   "cell_type": "code",
   "execution_count": 57,
   "id": "84b67509-1e79-409c-b9c4-ac7faeb08c8f",
   "metadata": {},
   "outputs": [
    {
     "ename": "IndentationError",
     "evalue": "unindent does not match any outer indentation level (<string>, line 7)",
     "output_type": "error",
     "traceback": [
      "\u001b[1;36m  File \u001b[1;32m<string>:7\u001b[1;36m\u001b[0m\n\u001b[1;33m    except ZeroDivisionError:\u001b[0m\n\u001b[1;37m                             ^\u001b[0m\n\u001b[1;31mIndentationError\u001b[0m\u001b[1;31m:\u001b[0m unindent does not match any outer indentation level\n"
     ]
    }
   ],
   "source": [
    "number1 = int(input(\"Enter the first number: \"))\n",
    "number2 = int(input(\"Enter the second number: \"))\n",
    "result = number1 / number2\n",
    "print(\"Result of division:\", result)\n",
    "      except ValueError:\n",
    "        print(\"Invalid input! Please enter valid numeric values.\")\n",
    "    except ZeroDivisionError:\n",
    "        print(\"Error: Cannot divide by zero. Please enter a non-zero second number.\")\n",
    "\n"
   ]
  },
  {
   "cell_type": "code",
   "execution_count": 55,
   "id": "74cadaf8-fbe3-4b41-90f2-5a30bb8c231e",
   "metadata": {},
   "outputs": [
    {
     "name": "stdin",
     "output_type": "stream",
     "text": [
      "Enter number of rows: 7\n"
     ]
    },
    {
     "name": "stdout",
     "output_type": "stream",
     "text": [
      "       *\n",
      "      **\n",
      "     ***\n",
      "    ****\n",
      "   *****\n",
      "  ******\n",
      " *******\n"
     ]
    }
   ],
   "source": [
    "def star_pattern3(n):\n",
    "    \n",
    "    spaces = n\n",
    "    for i in range(1, n + 1):\n",
    "        for j in range(1, spaces + 1):\n",
    "            \n",
    "            print(\" \", end=\"\")\n",
    "       \n",
    "\n",
    "        for k in range(1, i + 1):\n",
    "            \n",
    "            print(\"*\", end=\"\")\n",
    "\n",
    "      \n",
    "        print()\n",
    "       \n",
    "        spaces = spaces - 1\n",
    "\n",
    "\n",
    "n = int(input(\"Enter number of rows:\"))\n",
    "star_pattern3(n)"
   ]
  },
  {
   "cell_type": "code",
   "execution_count": 58,
   "id": "bf4a1665-0320-45bf-990c-020b6c078e60",
   "metadata": {},
   "outputs": [
    {
     "ename": "SyntaxError",
     "evalue": "invalid syntax (4261569162.py, line 5)",
     "output_type": "error",
     "traceback": [
      "\u001b[1;36m  Cell \u001b[1;32mIn[58], line 5\u001b[1;36m\u001b[0m\n\u001b[1;33m    except ValueError:\u001b[0m\n\u001b[1;37m    ^\u001b[0m\n\u001b[1;31mSyntaxError\u001b[0m\u001b[1;31m:\u001b[0m invalid syntax\n"
     ]
    }
   ],
   "source": [
    "\n",
    "    number1 = int(input(\"Enter the first number: \"))\n",
    "    number2 = int(input(\"Enter the second number: \"))\n",
    "    result = number1 / number2\n",
    "    print(\"Result of division:\", result)\n",
    "except ValueError:\n",
    "    print(\"Invalid input! Please enter valid numeric values.\")\n",
    "except ZeroDivisionError:\n",
    "    print(\"Error: Cannot divide by zero. Please enter a non-zero second number.\")\n"
   ]
  },
  {
   "cell_type": "code",
   "execution_count": null,
   "id": "f1832085-d083-4fdb-b0aa-c09d37dc9031",
   "metadata": {},
   "outputs": [],
   "source": []
  }
 ],
 "metadata": {
  "kernelspec": {
   "display_name": "Python 3 (ipykernel)",
   "language": "python",
   "name": "python3"
  },
  "language_info": {
   "codemirror_mode": {
    "name": "ipython",
    "version": 3
   },
   "file_extension": ".py",
   "mimetype": "text/x-python",
   "name": "python",
   "nbconvert_exporter": "python",
   "pygments_lexer": "ipython3",
   "version": "3.12.4"
  }
 },
 "nbformat": 4,
 "nbformat_minor": 5
}
