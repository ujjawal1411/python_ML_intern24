{
 "cells": [
  {
   "cell_type": "code",
   "execution_count": null,
   "id": "7682eae5-fe2a-414c-9824-758850a467df",
   "metadata": {},
   "outputs": [],
   "source": []
  },
  {
   "cell_type": "code",
   "execution_count": 19,
   "id": "51b269c3-1d6a-4798-8b46-2552bf1413dd",
   "metadata": {},
   "outputs": [
    {
     "data": {
      "text/plain": [
       "array([1, 2, 3, 4, 5], dtype=int16)"
      ]
     },
     "execution_count": 19,
     "metadata": {},
     "output_type": "execute_result"
    }
   ],
   "source": [
    "arr2 =np .array([1,2,3,4,5],dtype=np.int16)\n",
    "arr2"
   ]
  },
  {
   "cell_type": "code",
   "execution_count": 20,
   "id": "127218b9-f53c-4392-bc66-4c4ebacdf013",
   "metadata": {},
   "outputs": [
    {
     "data": {
      "text/plain": [
       "array([0., 0., 0., 0., 0.])"
      ]
     },
     "execution_count": 20,
     "metadata": {},
     "output_type": "execute_result"
    }
   ],
   "source": [
    "z=np.zeros(5)\n",
    "z"
   ]
  },
  {
   "cell_type": "code",
   "execution_count": 21,
   "id": "26ccd274-0168-479f-9a83-f4067cef9e95",
   "metadata": {},
   "outputs": [
    {
     "data": {
      "text/plain": [
       "array([1., 1., 1., 1.])"
      ]
     },
     "execution_count": 21,
     "metadata": {},
     "output_type": "execute_result"
    }
   ],
   "source": [
    "o=np.ones(4)\n",
    "o"
   ]
  },
  {
   "cell_type": "code",
   "execution_count": 22,
   "id": "17b2af29-0350-4ff0-8e0b-bced0665990a",
   "metadata": {},
   "outputs": [
    {
     "data": {
      "text/plain": [
       "array([0, 1, 2, 3, 4, 5, 6, 7, 8, 9])"
      ]
     },
     "execution_count": 22,
     "metadata": {},
     "output_type": "execute_result"
    }
   ],
   "source": [
    "ar=np.arange(0,10,1)\n",
    "ar"
   ]
  },
  {
   "cell_type": "code",
   "execution_count": 23,
   "id": "3a419766-5dfe-46af-9b58-53e424ac17fd",
   "metadata": {},
   "outputs": [
    {
     "data": {
      "text/plain": [
       "array([0, 9])"
      ]
     },
     "execution_count": 23,
     "metadata": {},
     "output_type": "execute_result"
    }
   ],
   "source": [
    "ar=np.arange(0,10,9)\n",
    "ar"
   ]
  },
  {
   "cell_type": "code",
   "execution_count": 26,
   "id": "1614b058-dc53-4428-b930-fbf70ac30fea",
   "metadata": {},
   "outputs": [
    {
     "data": {
      "text/plain": [
       "array([0.28528909, 0.99292099, 0.94791537, 0.82732555, 0.21501178,\n",
       "       0.29685358])"
      ]
     },
     "execution_count": 26,
     "metadata": {},
     "output_type": "execute_result"
    }
   ],
   "source": [
    "ran=np.random.rand(6)\n",
    "ran"
   ]
  },
  {
   "cell_type": "code",
   "execution_count": 27,
   "id": "7f05bfbe-12fe-4881-bff8-adb7ffe6eb04",
   "metadata": {},
   "outputs": [
    {
     "data": {
      "text/plain": [
       "array([  0.        ,  11.11111111,  22.22222222,  33.33333333,\n",
       "        44.44444444,  55.55555556,  66.66666667,  77.77777778,\n",
       "        88.88888889, 100.        ])"
      ]
     },
     "execution_count": 27,
     "metadata": {},
     "output_type": "execute_result"
    }
   ],
   "source": [
    "ln=np.linspace(0,100,10)\n",
    "ln"
   ]
  },
  {
   "cell_type": "code",
   "execution_count": 54,
   "id": "03204487-f422-4bb7-b2e0-eafce2cb8b8a",
   "metadata": {},
   "outputs": [
    {
     "data": {
      "text/plain": [
       "array([[1, 2, 3],\n",
       "       [4, 5, 6],\n",
       "       [7, 8, 9]])"
      ]
     },
     "execution_count": 54,
     "metadata": {},
     "output_type": "execute_result"
    }
   ],
   "source": [
    "ar2=np.array([[1,2,3],[4,5,6],[7,8,9]])\n",
    "ar2"
   ]
  },
  {
   "cell_type": "code",
   "execution_count": 53,
   "id": "34d8697f-a889-4976-b65f-cb965ae90360",
   "metadata": {},
   "outputs": [
    {
     "data": {
      "text/plain": [
       "array([[0., 0., 0., 0., 0.],\n",
       "       [0., 0., 0., 0., 0.],\n",
       "       [0., 0., 0., 0., 0.],\n",
       "       [0., 0., 0., 0., 0.],\n",
       "       [0., 0., 0., 0., 0.]])"
      ]
     },
     "execution_count": 53,
     "metadata": {},
     "output_type": "execute_result"
    }
   ],
   "source": [
    "ar3=np.zeros([5,5])\n",
    "ar3"
   ]
  },
  {
   "cell_type": "code",
   "execution_count": 34,
   "id": "ee987b6b-b78b-4d67-b2de-2c29d3dbe3f1",
   "metadata": {},
   "outputs": [
    {
     "data": {
      "text/plain": [
       "array([[1., 0., 0., 0., 0., 0.],\n",
       "       [0., 1., 0., 0., 0., 0.],\n",
       "       [0., 0., 1., 0., 0., 0.],\n",
       "       [0., 0., 0., 1., 0., 0.],\n",
       "       [0., 0., 0., 0., 1., 0.],\n",
       "       [0., 0., 0., 0., 0., 1.]])"
      ]
     },
     "execution_count": 34,
     "metadata": {},
     "output_type": "execute_result"
    }
   ],
   "source": [
    "i=np.eye(6)\n",
    "i"
   ]
  },
  {
   "cell_type": "code",
   "execution_count": 50,
   "id": "ad833015-8ad0-4dfe-968f-a8ec3dd3e343",
   "metadata": {
    "scrolled": true
   },
   "outputs": [
    {
     "data": {
      "text/plain": [
       "array([[0.20553767, 0.97292319]])"
      ]
     },
     "execution_count": 50,
     "metadata": {},
     "output_type": "execute_result"
    }
   ],
   "source": [
    "r1=np.random.rand(1,2,)\n",
    "r1"
   ]
  },
  {
   "cell_type": "markdown",
   "id": "c6fed353-7c79-4beb-a944-c8fb9cd63319",
   "metadata": {},
   "source": [
    "print(r1.size)"
   ]
  },
  {
   "cell_type": "code",
   "execution_count": 62,
   "id": "ae45d552-728b-495b-b640-3483882438a8",
   "metadata": {},
   "outputs": [
    {
     "data": {
      "text/plain": [
       "array([[1, 2, 3],\n",
       "       [4, 5, 6],\n",
       "       [7, 8, 9]], dtype=int16)"
      ]
     },
     "execution_count": 62,
     "metadata": {},
     "output_type": "execute_result"
    }
   ],
   "source": [
    "ar2=np.short(ar2,)\n",
    "ar2"
   ]
  },
  {
   "cell_type": "code",
   "execution_count": 60,
   "id": "13867cde-819e-4d91-96d9-1376b797f893",
   "metadata": {},
   "outputs": [
    {
     "data": {
      "text/plain": [
       "np.int64(45)"
      ]
     },
     "execution_count": 60,
     "metadata": {},
     "output_type": "execute_result"
    }
   ],
   "source": [
    "ar2.sum()"
   ]
  },
  {
   "cell_type": "code",
   "execution_count": 66,
   "id": "992fc9b3-d9f6-4c54-a05d-5304d4249863",
   "metadata": {},
   "outputs": [
    {
     "data": {
      "text/plain": [
       "array([[1, 2, 3],\n",
       "       [4, 5, 6],\n",
       "       [7, 8, 9]], dtype=int16)"
      ]
     },
     "execution_count": 66,
     "metadata": {},
     "output_type": "execute_result"
    }
   ],
   "source": [
    "ar2"
   ]
  },
  {
   "cell_type": "code",
   "execution_count": 70,
   "id": "5c0cc3db-02e3-45f7-af4c-713c7a70686f",
   "metadata": {},
   "outputs": [
    {
     "data": {
      "text/plain": [
       "array([[1., 2., 3.],\n",
       "       [4., 5., 6.],\n",
       "       [7., 8., 9.]])"
      ]
     },
     "execution_count": 70,
     "metadata": {},
     "output_type": "execute_result"
    }
   ],
   "source": [
    "np.divide(ar2,1)"
   ]
  },
  {
   "cell_type": "code",
   "execution_count": 1,
   "id": "107e4656-1401-4e24-b420-6c11ae6079b9",
   "metadata": {},
   "outputs": [
    {
     "name": "stdout",
     "output_type": "stream",
     "text": [
      "Mean scores for each subject: [86.2 86.8 87.8]\n"
     ]
    }
   ],
   "source": [
    "import numpy as np\n",
    "scores = np.array([\n",
    "    [85, 90, 78],\n",
    "    [92, 88, 95],\n",
    "    [76, 95, 85],\n",
    "    [90, 85, 92],\n",
    "    [88, 76, 89]\n",
    "])\n",
    "mean_scores = np.mean(scores, axis=0)\n",
    "print(\"Mean scores for each subject:\", mean_scores)"
   ]
  },
  {
   "cell_type": "code",
   "execution_count": null,
   "id": "dfea2b55-79f4-4d1b-baed-04f82beb4dfb",
   "metadata": {},
   "outputs": [],
   "source": []
  }
 ],
 "metadata": {
  "kernelspec": {
   "display_name": "Python 3 (ipykernel)",
   "language": "python",
   "name": "python3"
  },
  "language_info": {
   "codemirror_mode": {
    "name": "ipython",
    "version": 3
   },
   "file_extension": ".py",
   "mimetype": "text/x-python",
   "name": "python",
   "nbconvert_exporter": "python",
   "pygments_lexer": "ipython3",
   "version": "3.12.4"
  }
 },
 "nbformat": 4,
 "nbformat_minor": 5
}
