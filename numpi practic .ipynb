{
 "cells": [
  {
   "cell_type": "code",
   "execution_count": 18,
   "id": "13ca2b7e-69d7-46d2-9976-9595de5b043e",
   "metadata": {},
   "outputs": [
    {
     "name": "stdin",
     "output_type": "stream",
     "text": [
      "enter your expression: 78-89\n"
     ]
    }
   ],
   "source": [
    "str = input ( \"enter your expression:\")\n",
    "op = \"\"\n",
    "for i in str:\n",
    "    if i in \"+-*/\":\n",
    "        op=i\n",
    "        str=str.replace (op, \" \")\n",
    "        l =[]\n",
    "        for i in str.split(\" \"):\n",
    "            l.append (float (i))\n",
    "            "
   ]
  },
  {
   "cell_type": "code",
   "execution_count": 16,
   "id": "f5c1bad8-355b-4a0f-8c49-bb45f4ccab57",
   "metadata": {},
   "outputs": [
    {
     "name": "stdin",
     "output_type": "stream",
     "text": [
      "enter your expression: 78-9.8\n"
     ]
    },
    {
     "name": "stdout",
     "output_type": "stream",
     "text": [
      "68.2\n"
     ]
    }
   ],
   "source": [
    "str = input ( \"enter your expression:\")\n",
    "print (eval(str)"
   ]
  },
  {
   "cell_type": "code",
   "execution_count": 20,
   "id": "4e2328d2-2a4d-4bdd-b2ed-bd6b7410870a",
   "metadata": {},
   "outputs": [
    {
     "name": "stdout",
     "output_type": "stream",
     "text": [
      "{1: 2, 2: 3, 3: 2}\n"
     ]
    }
   ],
   "source": [
    "DIP= {'A':1, 'B':1,'C':2,'D':3,'E':2,'F':2,'G':3}\n",
    "\n",
    "DOP={}\n",
    "for i in DIP. values ():\n",
    "    if i in DOP.keys ():\n",
    "        DOP[i]=DOP[i]+1\n",
    "    else: \n",
    "        DOP[i]=1\n",
    "\n",
    "print (DOP)\n"
   ]
  },
  {
   "cell_type": "code",
   "execution_count": 36,
   "id": "e7ff1481-d152-4ce6-8102-f22102870d51",
   "metadata": {},
   "outputs": [
    {
     "name": "stdin",
     "output_type": "stream",
     "text": [
      "Enter a number to check if it is prime:  56\n"
     ]
    },
    {
     "name": "stdout",
     "output_type": "stream",
     "text": [
      "56 is not a prime number.\n"
     ]
    }
   ],
   "source": [
    "def prime(number):\n",
    "    if number <= 1:\n",
    "        return False  \n",
    "    if number <= 3:\n",
    "        return True  \n",
    "    if number % 2 == 0 or number % 3 == 0:\n",
    "        return False  \n",
    "    \n",
    "    i = 5\n",
    "    while i * i <= number:\n",
    "        if number % i == 0 or number % (i + 2) == 0:\n",
    "            return False\n",
    "        i += 6\n",
    "\n",
    "    return True\n",
    "\n",
    "if __name__ == \"__main__\":\n",
    "    number = int(input(\"Enter a number to check if it is prime: \"))\n",
    "    if prime(number):\n",
    "        print(f\"{number} is a prime number.\")\n",
    "    else:\n",
    "        print(f\"{number} is not a prime number.\")"
   ]
  },
  {
   "cell_type": "code",
   "execution_count": 8,
   "id": "170230cb-a0b4-4be8-9d75-e1c6815c77d7",
   "metadata": {},
   "outputs": [
    {
     "name": "stdin",
     "output_type": "stream",
     "text": [
      " 1 2 3 4\n"
     ]
    },
    {
     "name": "stdout",
     "output_type": "stream",
     "text": [
      "['1', '2', '3', '4']\n"
     ]
    }
   ],
   "source": [
    "l= list(map (str,input().split()))\n",
    "\n",
    "print (l)"
   ]
  },
  {
   "cell_type": "code",
   "execution_count": 25,
   "id": "affb7bc2-b48e-4381-a03a-7e24414c49e6",
   "metadata": {},
   "outputs": [
    {
     "name": "stdout",
     "output_type": "stream",
     "text": [
      "10\n",
      "20\n"
     ]
    }
   ],
   "source": [
    "class a:\n",
    "    def __init__(self):\n",
    "        self.a=10\n",
    "        self.b=20\n",
    "        def fun1(self):\n",
    "            print(\"this is a fun1 from class a\")\n",
    "\n",
    "\n",
    "\n",
    "class b(a):\n",
    "    def __init__(self):\n",
    "        self.a=100\n",
    "        self.b=200\n",
    "        def fun1(self):\n",
    "            print(\"this is a fun1 from class b\")\n",
    "\n",
    "if __name__ == \"__main__\":\n",
    "    obj  =a()\n",
    "\n",
    "    \n",
    "    print(obj.a)\n",
    "    print(obj.b)\n",
    "   \n",
    "            \n",
    "        "
   ]
  },
  {
   "cell_type": "code",
   "execution_count": 5,
   "id": "176edfb7-2a68-48b0-bd98-d1ec17bcb542",
   "metadata": {},
   "outputs": [
    {
     "name": "stdout",
     "output_type": "stream",
     "text": [
      "[86.2 86.8 87.8]\n"
     ]
    }
   ],
   "source": [
    "#calculate mean\n",
    "import numpy as np\n",
    "scores = np.array([\n",
    "    [85, 90, 78],\n",
    "    [92, 88, 95],\n",
    "    [76, 95, 85],\n",
    "    [90, 85, 92],\n",
    "    [88, 76, 89]\n",
    "])\n",
    "mean_scores = np.mean(scores, axis=0)\n",
    "print(mean_scores)"
   ]
  },
  {
   "cell_type": "code",
   "execution_count": 11,
   "id": "8567b42d-fa3a-445f-961f-2752ee7c130e",
   "metadata": {},
   "outputs": [
    {
     "name": "stdout",
     "output_type": "stream",
     "text": [
      "Median scores for each student: [88. 88. 89.]\n"
     ]
    }
   ],
   "source": [
    "#find median \n",
    "scores = np.array([\n",
    "    [85, 90, 78],\n",
    "    [92, 88, 95],\n",
    "    [76, 95, 85],\n",
    "    [90, 85, 92],\n",
    "    [88, 76, 89]\n",
    "])\n",
    "median_scores = np.median(scores, axis=0)\n",
    "print( median_scores)\n"
   ]
  },
  {
   "cell_type": "code",
   "execution_count": 12,
   "id": "1e67ee2b-cc06-49dd-89ab-65d26a4132a4",
   "metadata": {},
   "outputs": [
    {
     "name": "stdout",
     "output_type": "stream",
     "text": [
      "Minimum scores for each subject: [76 76 78]\n",
      "Maximum scores for each subject: [92 95 95]\n"
     ]
    }
   ],
   "source": [
    "# max & min\n",
    "min_scores = np.min(scores, axis=0)\n",
    "max_scores = np.max(scores, axis=0)\n",
    "print( min_scores)\n",
    "print( max_scores)\n"
   ]
  },
  {
   "cell_type": "code",
   "execution_count": 30,
   "id": "4ac14a10-3936-49a3-bbc2-e98ba034ca18",
   "metadata": {},
   "outputs": [
    {
     "name": "stdout",
     "output_type": "stream",
     "text": [
      "[90 95 95 92 89]\n"
     ]
    }
   ],
   "source": [
    "#highest total\n",
    "highest_score=np.max(scores ,axis=1)\n",
    "print(highest_score)"
   ]
  },
  {
   "cell_type": "code",
   "execution_count": 13,
   "id": "cc127689-ae18-49f8-a464-efd3c4786241",
   "metadata": {},
   "outputs": [
    {
     "name": "stdout",
     "output_type": "stream",
     "text": [
      "[[76 76 78]\n",
      " [85 85 85]\n",
      " [88 88 89]\n",
      " [90 90 92]\n",
      " [92 95 95]]\n"
     ]
    }
   ],
   "source": [
    "#shorting \n",
    "sorted_scores = np.sort(scores, axis=0)\n",
    "\n",
    "print(sorted_scores)"
   ]
  },
  {
   "cell_type": "code",
   "execution_count": 14,
   "id": "21278bdf-5425-468c-9e62-8a89f2ffb949",
   "metadata": {},
   "outputs": [
    {
     "name": "stdout",
     "output_type": "stream",
     "text": [
      "[[85 92 76 90 88]\n",
      " [90 88 95 85 76]\n",
      " [78 95 85 92 89]]\n"
     ]
    }
   ],
   "source": [
    "# rephase \n",
    "reshaped_scores = scores.T\n",
    "print(reshaped_scores)"
   ]
  },
  {
   "cell_type": "code",
   "execution_count": null,
   "id": "9398c09b-f396-4827-9d93-e04b02af3ebf",
   "metadata": {},
   "outputs": [],
   "source": []
  }
 ],
 "metadata": {
  "kernelspec": {
   "display_name": "Python 3 (ipykernel)",
   "language": "python",
   "name": "python3"
  },
  "language_info": {
   "codemirror_mode": {
    "name": "ipython",
    "version": 3
   },
   "file_extension": ".py",
   "mimetype": "text/x-python",
   "name": "python",
   "nbconvert_exporter": "python",
   "pygments_lexer": "ipython3",
   "version": "3.12.4"
  }
 },
 "nbformat": 4,
 "nbformat_minor": 5
}
