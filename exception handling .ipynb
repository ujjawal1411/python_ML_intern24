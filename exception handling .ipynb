{
 "cells": [
  {
   "cell_type": "code",
   "execution_count": 14,
   "id": "9cd7e900-0b30-4194-ae20-95b7e9699bc8",
   "metadata": {},
   "outputs": [
    {
     "name": "stdout",
     "output_type": "stream",
     "text": [
      "hello world\n",
      "4\n",
      "5\n",
      "end of line\n"
     ]
    }
   ],
   "source": [
    "L = [1,2,3,4,5]\n",
    "print(\"hello world\")\n",
    "L\n",
    "print(L[3])\n",
    "try:\n",
    "    print(L[4])\n",
    "except:\n",
    "    print(\"invalid index\")\n",
    "print(\"end of line\")\n",
    "    "
   ]
  },
  {
   "cell_type": "code",
   "execution_count": 13,
   "id": "1049f204-a5f5-4950-ab6d-94142d7214df",
   "metadata": {},
   "outputs": [
    {
     "name": "stdout",
     "output_type": "stream",
     "text": [
      "0.9090909090909091\n",
      "code executed successfully\n"
     ]
    }
   ],
   "source": [
    "a =10\n",
    "b=11\n",
    "try:\n",
    "    print(a/b)\n",
    "except:\n",
    "    print(\"b cant be zero\")\n",
    "finally:\n",
    "    print(\"code executed successfully\")"
   ]
  },
  {
   "cell_type": "code",
   "execution_count": null,
   "id": "cd7b8d80-7b9a-44b2-aab3-8975b5864d86",
   "metadata": {},
   "outputs": [],
   "source": []
  }
 ],
 "metadata": {
  "kernelspec": {
   "display_name": "Python 3 (ipykernel)",
   "language": "python",
   "name": "python3"
  },
  "language_info": {
   "codemirror_mode": {
    "name": "ipython",
    "version": 3
   },
   "file_extension": ".py",
   "mimetype": "text/x-python",
   "name": "python",
   "nbconvert_exporter": "python",
   "pygments_lexer": "ipython3",
   "version": "3.12.4"
  }
 },
 "nbformat": 4,
 "nbformat_minor": 5
}
